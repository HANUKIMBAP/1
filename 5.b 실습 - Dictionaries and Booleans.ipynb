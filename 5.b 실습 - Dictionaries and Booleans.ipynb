{
 "cells": [
  {
   "cell_type": "markdown",
   "metadata": {},
   "source": [
    "# <font color='red'> *실습* </font> \n",
    "# <font color='red'> DICTIONARIES AND BOOLEANS </font> "
   ]
  },
  {
   "cell_type": "markdown",
   "metadata": {},
   "source": [
    "# <font color='blue'> 1. 밸류들을 전부 곱한 값을 출력하는 코드를 만드세요. </font>"
   ]
  },
  {
   "cell_type": "code",
   "execution_count": 45,
   "metadata": {},
   "outputs": [],
   "source": [
    "my_dict = {'data1':500,\n",
    "           'data2':-10,\n",
    "           'data3':300}\n"
   ]
  },
  {
   "cell_type": "code",
   "execution_count": 55,
   "metadata": {},
   "outputs": [
    {
     "data": {
      "text/plain": [
       "-1500000"
      ]
     },
     "execution_count": 55,
     "metadata": {},
     "output_type": "execute_result"
    }
   ],
   "source": [
    "my_dict['data1']*my_dict['data2']*my_dict['data3']"
   ]
  },
  {
   "cell_type": "code",
   "execution_count": 84,
   "metadata": {},
   "outputs": [
    {
     "data": {
      "text/plain": [
       "[500, -10, 300]"
      ]
     },
     "execution_count": 84,
     "metadata": {},
     "output_type": "execute_result"
    }
   ],
   "source": [
    "v=my_dict.values()\n",
    "list(v)"
   ]
  },
  {
   "cell_type": "markdown",
   "metadata": {},
   "source": [
    "# <font color='blue'> 2. 각 학생별로, 중간과 기말의 평균점수를 구하세요.  "
   ]
  },
  {
   "cell_type": "code",
   "execution_count": 62,
   "metadata": {},
   "outputs": [],
   "source": [
    "student_details = [\n",
    "  {'student_id' : 1, 'subject' : 'math', 'midterm' : 60, 'final' : 85},\n",
    "  {'student_id' : 2, 'subject' : 'math', 'midterm' : 80, 'final' : 78},\n",
    "  {'student_id' : 3, 'subject' : 'math', 'midterm' : 90, 'final' : 85}\n",
    "]\n"
   ]
  },
  {
   "cell_type": "code",
   "execution_count": 75,
   "metadata": {},
   "outputs": [],
   "source": [
    "a=(student_details[0]['midterm']+student_details[0]['final'])/2"
   ]
  },
  {
   "cell_type": "code",
   "execution_count": 76,
   "metadata": {},
   "outputs": [],
   "source": [
    "b=(student_details[1]['midterm']+student_details[1]['final'])/2\n",
    "c=(student_details[2]['midterm']+student_details[2]['final'])/2"
   ]
  },
  {
   "cell_type": "markdown",
   "metadata": {},
   "source": [
    "# <font color='blue'> 3. 위에서 구한 평균점수를,\"AVERAGE\" 라는 키를 새로 만들어서, 각 학생의 딕셔너리에 추가하세요."
   ]
  },
  {
   "cell_type": "code",
   "execution_count": 78,
   "metadata": {},
   "outputs": [
    {
     "name": "stdout",
     "output_type": "stream",
     "text": [
      "[{'student_id': 1, 'subject': 'math', 'midterm': 60, 'final': 85, 'Average': 72.5}, {'student_id': 2, 'subject': 'math', 'midterm': 80, 'final': 78, 'Average': 79.0}, {'student_id': 3, 'subject': 'math', 'midterm': 90, 'final': 85, 'Average': 87.5}]\n"
     ]
    }
   ],
   "source": [
    "student_details[0].setdefault('Average',a)\n",
    "student_details[1].setdefault('Average',b)\n",
    "student_details[2].setdefault('Average',c)\n",
    "\n",
    "print(student_details)"
   ]
  },
  {
   "cell_type": "markdown",
   "metadata": {},
   "source": [
    "# <font color='blue'> 4. 각각의 숫자를,  제곱한 값으로 바꾸세요."
   ]
  },
  {
   "cell_type": "code",
   "execution_count": 90,
   "metadata": {},
   "outputs": [],
   "source": [
    "dictionary = {'C1' : [10,20,30],\n",
    "              'C2' : [20,30,40]}\n",
    "\n"
   ]
  },
  {
   "cell_type": "code",
   "execution_count": 91,
   "metadata": {},
   "outputs": [
    {
     "data": {
      "text/plain": [
       "{'C1': [100, 400, 900], 'C2': [400, 900, 1600]}"
      ]
     },
     "execution_count": 91,
     "metadata": {},
     "output_type": "execute_result"
    }
   ],
   "source": [
    "dictionary['C1'][0]=dictionary['C1'][0]**2\n",
    "dictionary['C1'][1]=dictionary['C1'][1]**2\n",
    "dictionary['C1'][2]=dictionary['C1'][2]**2\n",
    "dictionary['C2'][0]=dictionary['C2'][0]**2\n",
    "dictionary['C2'][1]=dictionary['C2'][1]**2\n",
    "dictionary['C2'][2]=dictionary['C2'][2]**2\n",
    "\n",
    "dictionary"
   ]
  },
  {
   "cell_type": "markdown",
   "metadata": {},
   "source": [
    "# <font color='blue'>  5. (1)모든 키를 리스트로 출력하세요. (2) 모든 밸류를 리스트로 출력하세요. (3) 모든 밸류의 값을 다 더하세요."
   ]
  },
  {
   "cell_type": "code",
   "execution_count": 19,
   "metadata": {},
   "outputs": [],
   "source": [
    "my_salary = {\"alex\": 25, \"sally\": 28, \"dina\": 30}"
   ]
  },
  {
   "cell_type": "code",
   "execution_count": 24,
   "metadata": {},
   "outputs": [
    {
     "data": {
      "text/plain": [
       "['alex', 'sally', 'dina']"
      ]
     },
     "execution_count": 24,
     "metadata": {},
     "output_type": "execute_result"
    }
   ],
   "source": [
    "list(my_salary)"
   ]
  },
  {
   "cell_type": "code",
   "execution_count": 25,
   "metadata": {},
   "outputs": [
    {
     "data": {
      "text/plain": [
       "[25, 28, 30]"
      ]
     },
     "execution_count": 25,
     "metadata": {},
     "output_type": "execute_result"
    }
   ],
   "source": [
    "list(my_salary.values())"
   ]
  },
  {
   "cell_type": "code",
   "execution_count": 26,
   "metadata": {},
   "outputs": [
    {
     "data": {
      "text/plain": [
       "83"
      ]
     },
     "execution_count": 26,
     "metadata": {},
     "output_type": "execute_result"
    }
   ],
   "source": [
    "sum(my_salary.values())"
   ]
  },
  {
   "cell_type": "code",
   "execution_count": null,
   "metadata": {},
   "outputs": [],
   "source": []
  },
  {
   "cell_type": "code",
   "execution_count": null,
   "metadata": {},
   "outputs": [],
   "source": []
  },
  {
   "cell_type": "markdown",
   "metadata": {},
   "source": [
    "# <font color='blue'>  6. 딕셔너리의 길이를 구하고, 나이에 대한 오름차순으로 정렬하세요."
   ]
  },
  {
   "cell_type": "code",
   "execution_count": 32,
   "metadata": {},
   "outputs": [],
   "source": [
    "my_dict = {\"sally\": 23, \"dina\": 22, \"holy\": 50, \"Joe\": 10, \"Peter\": 44}\n"
   ]
  },
  {
   "cell_type": "code",
   "execution_count": 34,
   "metadata": {},
   "outputs": [
    {
     "data": {
      "text/plain": [
       "[10, 22, 23, 44, 50]"
      ]
     },
     "execution_count": 34,
     "metadata": {},
     "output_type": "execute_result"
    }
   ],
   "source": [
    "len(my_dict)\n",
    "\n",
    "sorted(my_dict.values())"
   ]
  },
  {
   "cell_type": "markdown",
   "metadata": {},
   "source": [
    "# <font color='blue'> 7. 다음 코드를 실행해서 결과를 확인하세요. </font> "
   ]
  },
  {
   "cell_type": "code",
   "execution_count": 35,
   "metadata": {},
   "outputs": [
    {
     "name": "stdout",
     "output_type": "stream",
     "text": [
      "False\n",
      "True\n",
      "False\n",
      "True\n"
     ]
    }
   ],
   "source": [
    "x = 10\n",
    "y = 20\n",
    "print(x>y)\n",
    "print(x<y)\n",
    "print(x==y)\n",
    "print(x!=y)\n"
   ]
  },
  {
   "cell_type": "code",
   "execution_count": null,
   "metadata": {},
   "outputs": [],
   "source": []
  }
 ],
 "metadata": {
  "kernelspec": {
   "display_name": "Python 3",
   "language": "python",
   "name": "python3"
  },
  "language_info": {
   "codemirror_mode": {
    "name": "ipython",
    "version": 3
   },
   "file_extension": ".py",
   "mimetype": "text/x-python",
   "name": "python",
   "nbconvert_exporter": "python",
   "pygments_lexer": "ipython3",
   "version": "3.8.3"
  }
 },
 "nbformat": 4,
 "nbformat_minor": 2
}
